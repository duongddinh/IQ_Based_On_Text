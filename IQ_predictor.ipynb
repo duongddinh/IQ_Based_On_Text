{
  "nbformat": 4,
  "nbformat_minor": 0,
  "metadata": {
    "colab": {
      "provenance": [],
      "authorship_tag": "ABX9TyOpldPHHh+CLJOCNk8ekcNY",
      "include_colab_link": true
    },
    "kernelspec": {
      "name": "python3",
      "display_name": "Python 3"
    },
    "language_info": {
      "name": "python"
    }
  },
  "cells": [
    {
      "cell_type": "markdown",
      "metadata": {
        "id": "view-in-github",
        "colab_type": "text"
      },
      "source": [
        "<a href=\"https://colab.research.google.com/github/frychicken/IQ_Based_On_Text/blob/main/IQ_predictor.ipynb\" target=\"_parent\"><img src=\"https://colab.research.google.com/assets/colab-badge.svg\" alt=\"Open In Colab\"/></a>"
      ]
    },
    {
      "cell_type": "code",
      "execution_count": null,
      "metadata": {
        "id": "YrTKRo9TkrJN"
      },
      "outputs": [],
      "source": [
        "!git clone https://github.com/frychicken/IQ_Based_On_Text"
      ]
    },
    {
      "cell_type": "code",
      "source": [
        "cd IQ_Based_On_Text"
      ],
      "metadata": {
        "id": "9h8L6Z0dkyq_"
      },
      "execution_count": null,
      "outputs": []
    },
    {
      "cell_type": "code",
      "source": [
        "!pip install -q -U keras-tuner"
      ],
      "metadata": {
        "id": "y1HH5xXxlS8s"
      },
      "execution_count": null,
      "outputs": []
    },
    {
      "cell_type": "code",
      "source": [
        "import pandas as pd\n",
        "import numpy as np\n",
        "from sklearn.model_selection import train_test_split\n",
        "from sklearn.feature_extraction.text import TfidfVectorizer\n",
        "from tensorflow.keras.models import Sequential\n",
        "from tensorflow.keras.layers import Dense\n",
        "from tensorflow.keras.optimizers import Adam\n",
        "from sklearn.metrics import mean_squared_error\n",
        "from kerastuner.tuners import RandomSearch\n",
        "from tensorflow.keras.callbacks import EarlyStopping"
      ],
      "metadata": {
        "id": "1LdkCqoyk2x8"
      },
      "execution_count": null,
      "outputs": []
    },
    {
      "cell_type": "code",
      "source": [
        "data = pd.read_csv('merged_iq_data.csv')\n",
        "texts = data['text'].values\n",
        "iq_scores = data['iq'].values"
      ],
      "metadata": {
        "id": "QAvJScSMlCDN"
      },
      "execution_count": 8,
      "outputs": []
    },
    {
      "cell_type": "code",
      "source": [
        "\n",
        "\n",
        "X_train, X_temp, y_train, y_temp = train_test_split(texts, iq_scores, test_size=0.4, random_state=42)\n",
        "X_val, X_test, y_val, y_test = train_test_split(X_temp, y_temp, test_size=0.5, random_state=42)\n",
        "\n",
        "vectorizer = TfidfVectorizer(max_features=1000)\n",
        "X_train_vect = vectorizer.fit_transform(X_train).toarray()\n",
        "X_val_vect = vectorizer.transform(X_val).toarray()\n",
        "X_test_vect = vectorizer.transform(X_test).toarray()\n",
        "\n",
        "def build_model(hp):\n",
        "    model = Sequential()\n",
        "    model.add(Dense(units=hp.Int('units_input', min_value=32, max_value=512, step=32),\n",
        "                    activation='relu', input_dim=X_train_vect.shape[1]))\n",
        "    for i in range(hp.Int('n_layers', 1, 3)):\n",
        "        model.add(Dense(units=hp.Int(f'units_layer{i}', min_value=32, max_value=256, step=32), activation='relu'))\n",
        "    model.add(Dense(1, activation='linear'))\n",
        "    model.compile(optimizer=Adam(hp.Float('learning_rate', min_value=1e-4, max_value=1e-2, sampling='LOG')),\n",
        "                  loss='mean_squared_error')\n",
        "    return model\n",
        "\n",
        "tuner = RandomSearch(\n",
        "    build_model,\n",
        "    objective='val_loss',\n",
        "    max_trials=5,\n",
        "    executions_per_trial=1,\n",
        "    directory='my_dir',\n",
        "    project_name='iq_prediction'\n",
        ")\n",
        "\n",
        "early_stopping = EarlyStopping(monitor='val_loss', patience=5, restore_best_weights=True)\n",
        "\n",
        "tuner.search(X_train_vect, y_train, epochs=50, validation_data=(X_val_vect, y_val), callbacks=[early_stopping])\n",
        "\n",
        "best_hps=tuner.get_best_hyperparameters(num_trials=1)[0]\n",
        "\n",
        "model = tuner.hypermodel.build(best_hps)\n",
        "\n",
        "model.fit(X_train_vect, y_train, epochs=50, validation_data=(X_val_vect, y_val), callbacks=[early_stopping])\n",
        "\n",
        "mse = model.evaluate(X_test_vect, y_test)\n",
        "rmse = np.sqrt(mse)\n",
        "print(f\"RMSE on Test Set: {rmse}\")"
      ],
      "metadata": {
        "id": "zQoaLM0fk5Ln"
      },
      "execution_count": null,
      "outputs": []
    },
    {
      "cell_type": "code",
      "source": [
        "input_text = input(\"Enter text for IQ prediction: \")\n",
        "input_text_vect = vectorizer.transform([input_text]).toarray()\n",
        "predicted_iq = model.predict(input_text_vect)\n",
        "print(f\"Predicted IQ Score: {predicted_iq[0][0]}\")"
      ],
      "metadata": {
        "colab": {
          "base_uri": "https://localhost:8080/"
        },
        "id": "eY_b-a5pk8Us",
        "outputId": "976f2131-dd4d-4f41-ce7f-3ed426105876"
      },
      "execution_count": 10,
      "outputs": [
        {
          "output_type": "stream",
          "name": "stdout",
          "text": [
            "Enter text for IQ prediction: I am very extraodinary\n",
            "1/1 [==============================] - 0s 95ms/step\n",
            "Predicted IQ Score: 70.06477355957031\n"
          ]
        }
      ]
    }
  ]
}